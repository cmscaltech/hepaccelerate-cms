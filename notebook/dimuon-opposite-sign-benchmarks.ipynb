{
 "cells": [
  {
   "cell_type": "markdown",
   "metadata": {},
   "source": [
    "Contents of the file `cupy.singularity`:\n",
    "~~~\n",
    "Bootstrap: docker\n",
    "\n",
    "#https://github.com/pytorch/pytorch#docker-image\n",
    "From: docker://cupy/cupy:latest-python3\n",
    "\n",
    "%post\n",
    "    apt-get update\n",
    "    apt-get install -y graphviz\n",
    "    apt-get install -y cuda-toolkit-9-2\n",
    "    pip3 install -U uproot\n",
    "    pip3 install -U awkward\n",
    "    pip3 install -U jupyter\n",
    "    pip3 install -U matplotlib\n",
    "    pip3 install -U dask\n",
    "    pip3 install -U distributed\n",
    "    pip3 install -U graphviz\n",
    "    pip3 install -U numba\n",
    "\n",
    "#can be empty\n",
    "%environment\n",
    "    JUPYTER_RUNTIME_DIR=$HOME/jupyter-runtime\n",
    "\n",
    "%runscript\n",
    "    /bin/bash\n",
    "~~~\n",
    "\n",
    "Compile as `sudo singularity build cupy.simg cupy.singularity`.\n",
    "\n",
    "Run as `JUPYTER_DATA_DIR=/tmp/$USER/jupyter LC_ALL=C singularity exec -B /data -B /nvmedata --nv $SINGULARITY_IMAGE jupyter notebook --certfile $HOME/mycert.pem --keyfile $HOME/mykey.key --ip 0.0.0.0 --port $PORT`.\n",
    "\n",
    "On `titans.hep.caltech.edu`, the image is in `/nfshome/singularity/images/cupy.simg`."
   ]
  },
  {
   "cell_type": "code",
   "execution_count": 1,
   "metadata": {},
   "outputs": [],
   "source": [
    "#!pip3 install -U pyarrow"
   ]
  },
  {
   "cell_type": "code",
   "execution_count": 2,
   "metadata": {},
   "outputs": [],
   "source": [
    "%matplotlib inline\n",
    "import matplotlib.pyplot as plt"
   ]
  },
  {
   "cell_type": "code",
   "execution_count": 3,
   "metadata": {},
   "outputs": [
    {
     "name": "stderr",
     "output_type": "stream",
     "text": [
      "/usr/local/lib/python3.5/dist-packages/dask/config.py:168: YAMLLoadWarning: calling yaml.load() without Loader=... is deprecated, as the default Loader is unsafe. Please read https://msg.pyyaml.org/load for full details.\n",
      "  data = yaml.load(f.read()) or {}\n"
     ]
    }
   ],
   "source": [
    "import uproot, cupy, awkward\n",
    "from awkward.util import numpy as anp\n",
    "import numpy as np\n",
    "import dask\n",
    "import glob\n",
    "import psutil, os\n",
    "from collections import OrderedDict\n",
    "from typing import List, Dict\n",
    "import math\n",
    "import numba\n",
    "import pyarrow\n",
    "\n",
    "os.environ[\"NUMBAPRO_NVVM\"] = \"/usr/local/cuda-9.2/nvvm/lib64/libnvvm.so\"\n",
    "os.environ[\"NUMBAPRO_LIBDEVICE\"] = \"/usr/local/cuda-9.2/nvvm/libdevice/\"\n",
    "from numba import cuda"
   ]
  },
  {
   "cell_type": "code",
   "execution_count": 4,
   "metadata": {},
   "outputs": [
    {
     "name": "stdout",
     "output_type": "stream",
     "text": [
      "Thu Mar 21 14:37:43 2019       \r\n",
      "+-----------------------------------------------------------------------------+\r\n",
      "| NVIDIA-SMI 396.26                 Driver Version: 396.26                    |\r\n",
      "|-------------------------------+----------------------+----------------------+\r\n",
      "| GPU  Name        Persistence-M| Bus-Id        Disp.A | Volatile Uncorr. ECC |\r\n",
      "| Fan  Temp  Perf  Pwr:Usage/Cap|         Memory-Usage | GPU-Util  Compute M. |\r\n",
      "|===============================+======================+======================|\r\n",
      "|   0  GeForce GTX TIT...  Off  | 00000000:07:00.0 Off |                  N/A |\r\n",
      "| 26%   58C    P8    30W / 250W |      0MiB / 12210MiB |      0%      Default |\r\n",
      "+-------------------------------+----------------------+----------------------+\r\n",
      "                                                                               \r\n",
      "+-----------------------------------------------------------------------------+\r\n",
      "| Processes:                                                       GPU Memory |\r\n",
      "|  GPU       PID   Type   Process name                             Usage      |\r\n",
      "|=============================================================================|\r\n",
      "|  No running processes found                                                 |\r\n",
      "+-----------------------------------------------------------------------------+\r\n"
     ]
    }
   ],
   "source": [
    "!nvidia-smi"
   ]
  },
  {
   "cell_type": "code",
   "execution_count": 5,
   "metadata": {},
   "outputs": [
    {
     "data": {
      "text/plain": [
       "('0.8.11', '6.0.0a1', '0.43.0')"
      ]
     },
     "execution_count": 5,
     "metadata": {},
     "output_type": "execute_result"
    }
   ],
   "source": [
    "awkward.__version__, cupy.__version__, numba.__version__"
   ]
  },
  {
   "cell_type": "code",
   "execution_count": 6,
   "metadata": {},
   "outputs": [],
   "source": [
    "infile = '/nvmedata/store/mc/RunIIFall17NanoAOD/GluGluHToMuMu_M125_13TeV_amcatnloFXFX_pythia8/NANOAODSIM/PU2017_12Apr2018_94X_mc2017_realistic_v14-v1/20000/0C2B3A66-B042-E811-8C6D-44A8423DE2C0.root'"
   ]
  },
  {
   "cell_type": "code",
   "execution_count": 7,
   "metadata": {},
   "outputs": [],
   "source": [
    "arrays_ev = [\n",
    "    \"PV_npvsGood\", \"Flag_METFilters\", \"Flag_goodVertices\", \"Generator_weight\", \"genWeight\", \"HLT_IsoMu24\"\n",
    "]\n",
    "arrays_jet = [\n",
    "    \"Jet_pt\", \"Jet_eta\", \"Jet_phi\", \"Jet_btagDeepB\", \"Jet_jetId\"\n",
    "]\n",
    "\n",
    "arrays_muon = [\n",
    "    \"nMuon\", \"Muon_pt\", \"Muon_eta\", \"Muon_phi\", \"Muon_mass\", \"Muon_pfRelIso03_all\", \"Muon_mediumId\", \"Muon_charge\"\n",
    "]\n",
    "\n",
    "arrays_to_load = arrays_jet + arrays_muon"
   ]
  },
  {
   "cell_type": "code",
   "execution_count": 8,
   "metadata": {},
   "outputs": [],
   "source": [
    "arrays_gen = [\n",
    "    \"GenPart_pt\", \"GenPart_eta\", \"GenPart_phi\", \"GenPart_mass\", \"GenPart_pdgId\", \"GenPart_status\"\n",
    "]"
   ]
  },
  {
   "cell_type": "code",
   "execution_count": 9,
   "metadata": {},
   "outputs": [],
   "source": [
    "fi = uproot.open(infile)\n",
    "tt = fi.get(\"Events\")\n",
    "arr = tt.array(\"Jet_pt\")"
   ]
  },
  {
   "cell_type": "code",
   "execution_count": 10,
   "metadata": {},
   "outputs": [
    {
     "data": {
      "text/plain": [
       "1279071"
      ]
     },
     "execution_count": 10,
     "metadata": {},
     "output_type": "execute_result"
    }
   ],
   "source": [
    "len(arr)"
   ]
  },
  {
   "cell_type": "code",
   "execution_count": 11,
   "metadata": {},
   "outputs": [
    {
     "data": {
      "text/plain": [
       "<JaggedArray [[98.0625 65.9375 23.46875 19.21875 18.359375 15.796875] [41.1875 21.34375 21.171875 18.8125 18.078125 16.421875] [69.5625 64.4375 28.078125 17.75] ... [81.625 76.5 32.53125 ... 18.609375 16.9375 15.6796875] [133.75 75.625 48.75 ... 25.578125 21.921875 17.984375] [139.625 87.8125 45.3125 ... 15.6640625 15.046875 15.015625]] at 0x7f15538a9320>"
      ]
     },
     "execution_count": 11,
     "metadata": {},
     "output_type": "execute_result"
    }
   ],
   "source": [
    "arr"
   ]
  },
  {
   "cell_type": "code",
   "execution_count": 12,
   "metadata": {},
   "outputs": [
    {
     "name": "stdout",
     "output_type": "stream",
     "text": [
      "event=0 njet=6 jets_pt=[98.0625   65.9375   23.46875  19.21875  18.359375 15.796875]\n",
      "event=1 njet=6 jets_pt=[41.1875   21.34375  21.171875 18.8125   18.078125 16.421875]\n",
      "event=2 njet=4 jets_pt=[69.5625   64.4375   28.078125 17.75    ]\n",
      "event=3 njet=4 jets_pt=[87.5625    37.40625   16.375     15.6328125]\n",
      "event=4 njet=5 jets_pt=[82.       76.625    37.125    24.84375  15.046875]\n",
      "event=5 njet=7 jets_pt=[77.8125   71.875    66.625    34.53125  19.640625 18.734375 15.40625 ]\n",
      "event=6 njet=4 jets_pt=[88.8125  70.0625  42.15625 24.0625 ]\n",
      "event=7 njet=6 jets_pt=[78.3125    61.75      19.140625  15.75      15.6484375 15.234375 ]\n",
      "event=8 njet=4 jets_pt=[89.3125   43.03125  27.875    19.140625]\n",
      "event=9 njet=5 jets_pt=[68.3125    60.40625   22.21875   19.78125   15.2265625]\n"
     ]
    }
   ],
   "source": [
    "for idx in range(10):\n",
    "    print(\"event=\", idx, \" njet=\", len(arr[idx]), \" jets_pt=\", arr[idx], sep='')"
   ]
  },
  {
   "cell_type": "code",
   "execution_count": 13,
   "metadata": {},
   "outputs": [
    {
     "data": {
      "text/plain": [
       "Text(0, 0.5, 'number of events')"
      ]
     },
     "execution_count": 13,
     "metadata": {},
     "output_type": "execute_result"
    },
    {
     "data": {
      "image/png": "[encoded data removed]",
      "text/plain": [
       "<Figure size 432x288 with 1 Axes>"
      ]
     },
     "metadata": {
      "needs_background": "light"
     },
     "output_type": "display_data"
    }
   ],
   "source": [
    "plt.hist(arr.counts, bins=20);\n",
    "plt.xlabel(\"number of jets per event\")\n",
    "plt.ylabel(\"number of events\")"
   ]
  },
  {
   "cell_type": "code",
   "execution_count": 14,
   "metadata": {},
   "outputs": [
    {
     "data": {
      "text/plain": [
       "33255846"
      ]
     },
     "execution_count": 14,
     "metadata": {},
     "output_type": "execute_result"
    }
   ],
   "source": [
    "num_total_dense = len(arr) * np.max(arr.counts)\n",
    "num_total_dense"
   ]
  },
  {
   "cell_type": "code",
   "execution_count": 15,
   "metadata": {},
   "outputs": [
    {
     "data": {
      "text/plain": [
       "7590616"
      ]
     },
     "execution_count": 15,
     "metadata": {},
     "output_type": "execute_result"
    }
   ],
   "source": [
    "num_total_sparse = len(arr.content)\n",
    "num_total_sparse"
   ]
  },
  {
   "cell_type": "code",
   "execution_count": 16,
   "metadata": {},
   "outputs": [
    {
     "data": {
      "text/plain": [
       "0.2282490723585862"
      ]
     },
     "execution_count": 16,
     "metadata": {},
     "output_type": "execute_result"
    }
   ],
   "source": [
    "num_total_sparse / num_total_dense"
   ]
  },
  {
   "cell_type": "code",
   "execution_count": 17,
   "metadata": {},
   "outputs": [],
   "source": [
    "muon_charges = tt.array(\"Muon_charge\")"
   ]
  },
  {
   "cell_type": "code",
   "execution_count": 18,
   "metadata": {},
   "outputs": [
    {
     "data": {
      "text/plain": [
       "<JaggedArray [[1 -1] [1] [1 -1] ... [1 -1] [1 -1] [1 -1]] at 0x7f1552de1f28>"
      ]
     },
     "execution_count": 18,
     "metadata": {},
     "output_type": "execute_result"
    }
   ],
   "source": [
    "muon_charges"
   ]
  },
  {
   "cell_type": "code",
   "execution_count": 19,
   "metadata": {},
   "outputs": [
    {
     "data": {
      "text/plain": [
       "array([ 1, -1,  1, ..., -1,  1, -1], dtype=int32)"
      ]
     },
     "execution_count": 19,
     "metadata": {},
     "output_type": "execute_result"
    }
   ],
   "source": [
    "muon_charges.content"
   ]
  },
  {
   "cell_type": "code",
   "execution_count": 20,
   "metadata": {},
   "outputs": [
    {
     "data": {
      "text/plain": [
       "array([      0,       2,       3, ..., 2284275, 2284277, 2284279])"
      ]
     },
     "execution_count": 20,
     "metadata": {},
     "output_type": "execute_result"
    }
   ],
   "source": [
    "muon_charges.offsets"
   ]
  },
  {
   "cell_type": "code",
   "execution_count": 21,
   "metadata": {},
   "outputs": [
    {
     "data": {
      "text/plain": [
       "Counter({0: 44125,\n",
       "         1: 272512,\n",
       "         2: 881660,\n",
       "         3: 75040,\n",
       "         4: 5366,\n",
       "         5: 347,\n",
       "         6: 20,\n",
       "         8: 1})"
      ]
     },
     "execution_count": 21,
     "metadata": {},
     "output_type": "execute_result"
    }
   ],
   "source": [
    "from collections import Counter\n",
    "Counter(muon_charges.counts)"
   ]
  },
  {
   "cell_type": "code",
   "execution_count": 22,
   "metadata": {},
   "outputs": [],
   "source": [
    "#naive implementation in pure Python\n",
    "def get_os_muons_slow(muon_charges, out_mask):\n",
    "    for ic, _c in enumerate(muon_charges):\n",
    "        \n",
    "        if _c.shape[0] >= 2:\n",
    "            \n",
    "            #find next muon that has an opposite charge, break\n",
    "            for isecond in range(1, len(_c)):\n",
    "                if _c[isecond] != _c[0]:\n",
    "                    \n",
    "                    #always take the first (leading pt) muon\n",
    "                    out_mask[ic][0] = True\n",
    "                    \n",
    "                    out_mask[ic][isecond] = True\n",
    "                    break\n",
    "                \n",
    "    return"
   ]
  },
  {
   "cell_type": "code",
   "execution_count": 23,
   "metadata": {},
   "outputs": [],
   "source": [
    "@numba.jit(nopython=True)\n",
    "def get_os_muons_numba(muon_charges_content, muon_charges_offsets, muon_mask_out):\n",
    "    for iev in range(len(muon_charges_offsets) - 1):\n",
    "        start = muon_charges_offsets[iev]\n",
    "        end = muon_charges_offsets[iev + 1]\n",
    "        \n",
    "        if end-start >= 2:\n",
    "            ch1 = muon_charges_content[start]\n",
    "            for imuon in range(start+1, end):\n",
    "                ch2 = muon_charges_content[imuon]\n",
    "                if ch2 != ch1:\n",
    "                    muon_mask_out[start] = True\n",
    "                    muon_mask_out[imuon] = True\n",
    "                    break\n",
    "    return"
   ]
  },
  {
   "cell_type": "code",
   "execution_count": 24,
   "metadata": {
    "scrolled": false
   },
   "outputs": [],
   "source": [
    "@cuda.jit('void(int8[:], int64[:], int8[:])')\n",
    "def get_os_muons_cuda(muon_charges_content, muon_charges_offsets, muon_mask_out):\n",
    "    xi = cuda.grid(1)\n",
    "    xstride = cuda.gridsize(1)\n",
    "    \n",
    "    for iev in range(xi, muon_charges_offsets.shape[0]-1, xstride):\n",
    "        start = muon_charges_offsets[iev]\n",
    "        end = muon_charges_offsets[iev + 1]\n",
    "        \n",
    "        ch1 = muon_charges_content[start]\n",
    "        \n",
    "        for imuon in range(start+1, end):\n",
    "            ch2 = muon_charges_content[imuon]\n",
    "            if (ch2 != ch1):\n",
    "                muon_mask_out[start] = 1\n",
    "                muon_mask_out[imuon] = 1\n",
    "                break\n",
    "    return"
   ]
  },
  {
   "cell_type": "code",
   "execution_count": 25,
   "metadata": {},
   "outputs": [],
   "source": [
    "def get_os_muons_awkward(muon_charges, out_muon_mask):\n",
    "\n",
    "    ch = muon_charges\n",
    "        \n",
    "    #select events with at least 2 muons\n",
    "    events_min2_muons = ch.count()>=2\n",
    "    \n",
    "    #get the charges of the muons in these events\n",
    "    ch2 = ch[events_min2_muons]\n",
    "\n",
    "    #get the index pairs of all muons on an event-by-event basis\n",
    "    all_muon_pairs = ch2.argcross(ch2)\n",
    "\n",
    "    #get only those index pairs where the muon is not paired with itself and is paired with another muon with a higher index\n",
    "    pairs_mask = (all_muon_pairs['0'] != all_muon_pairs['1']) & ((all_muon_pairs['0'] < all_muon_pairs['1']))\n",
    "    all_muon_pairs = all_muon_pairs[pairs_mask]\n",
    "    \n",
    "    #get the pairs with the opposite sign charges\n",
    "    pairs_with_os = ch2[all_muon_pairs['0']] != ch2[all_muon_pairs['1']]\n",
    "    \n",
    "    #get the indices of the pairs with the opposite sign\n",
    "    idxs = all_muon_pairs[pairs_with_os]\n",
    "\n",
    "    #get the events that had at least one such good pair\n",
    "    events_min1_os_pair = idxs['0'].count()>=1\n",
    "    idxs2 = idxs[events_min1_os_pair]\n",
    "    bestpair = idxs2[:, 0]\n",
    "    \n",
    "    first_muon_idx = bestpair['0']\n",
    "    second_muon_idx = bestpair['1']\n",
    "\n",
    "    #set the leading and subleading muons to pass the mask according to the pair\n",
    "    muon_mask_active = out_muon_mask[events_min2_muons][events_min1_os_pair]\n",
    "    muon_mask_active.content[muon_mask_active.starts + first_muon_idx] = True\n",
    "    muon_mask_active.content[muon_mask_active.starts + second_muon_idx] = True\n",
    "    \n",
    "    return"
   ]
  },
  {
   "cell_type": "code",
   "execution_count": 26,
   "metadata": {},
   "outputs": [],
   "source": [
    "mu_c = cupy.array(muon_charges.content, dtype=np.int8)\n",
    "mu_o = cupy.array(muon_charges.offsets, dtype=np.int64)\n",
    "\n",
    "mask_cuda = cupy.zeros_like(mu_c, dtype=np.int8)\n",
    "mask_numba = np.zeros_like(muon_charges.content, dtype=np.int8)\n",
    "\n",
    "mask_awkward = awkward.array.jagged.JaggedArray(\n",
    "    muon_charges.starts,\n",
    "    muon_charges.stops,\n",
    "    np.zeros(shape=muon_charges.content.shape, dtype=bool)\n",
    ")\n",
    "\n",
    "mask_slow = mask_awkward.copy()"
   ]
  },
  {
   "cell_type": "code",
   "execution_count": 27,
   "metadata": {},
   "outputs": [
    {
     "name": "stdout",
     "output_type": "stream",
     "text": [
      "8.69 s ± 46.6 ms per loop (mean ± std. dev. of 7 runs, 1 loop each)\n"
     ]
    },
    {
     "data": {
      "text/plain": [
       "<TimeitResult : 8.69 s ± 46.6 ms per loop (mean ± std. dev. of 7 runs, 1 loop each)>"
      ]
     },
     "execution_count": 27,
     "metadata": {},
     "output_type": "execute_result"
    }
   ],
   "source": [
    "timing_python = %timeit -o get_os_muons_slow(muon_charges, mask_slow)\n",
    "timing_python"
   ]
  },
  {
   "cell_type": "code",
   "execution_count": 28,
   "metadata": {},
   "outputs": [
    {
     "name": "stdout",
     "output_type": "stream",
     "text": [
      "509 µs ± 99.5 µs per loop (mean ± std. dev. of 7 runs, 10 loops each)\n"
     ]
    },
    {
     "data": {
      "text/plain": [
       "<TimeitResult : 509 µs ± 99.5 µs per loop (mean ± std. dev. of 7 runs, 10 loops each)>"
      ]
     },
     "execution_count": 28,
     "metadata": {},
     "output_type": "execute_result"
    }
   ],
   "source": [
    "timing_cuda = %timeit -n10 -o get_os_muons_cuda[128,1024](mu_c, mu_o, mask_cuda);cuda.synchronize()\n",
    "timing_cuda"
   ]
  },
  {
   "cell_type": "code",
   "execution_count": 29,
   "metadata": {},
   "outputs": [
    {
     "data": {
      "text/plain": [
       "True"
      ]
     },
     "execution_count": 29,
     "metadata": {},
     "output_type": "execute_result"
    }
   ],
   "source": [
    "np.all(np.equal(cupy.asnumpy(mask_cuda), mask_slow.content))"
   ]
  },
  {
   "cell_type": "code",
   "execution_count": 30,
   "metadata": {},
   "outputs": [
    {
     "name": "stdout",
     "output_type": "stream",
     "text": [
      "7.51 ms ± 4.04 ms per loop (mean ± std. dev. of 7 runs, 10 loops each)\n"
     ]
    },
    {
     "data": {
      "text/plain": [
       "<TimeitResult : 7.51 ms ± 4.04 ms per loop (mean ± std. dev. of 7 runs, 10 loops each)>"
      ]
     },
     "execution_count": 30,
     "metadata": {},
     "output_type": "execute_result"
    }
   ],
   "source": [
    "timing_numba = %timeit -n10 -o get_os_muons_numba(muon_charges.content, muon_charges.offsets, mask_numba)\n",
    "timing_numba"
   ]
  },
  {
   "cell_type": "code",
   "execution_count": 31,
   "metadata": {},
   "outputs": [
    {
     "data": {
      "text/plain": [
       "True"
      ]
     },
     "execution_count": 31,
     "metadata": {},
     "output_type": "execute_result"
    }
   ],
   "source": [
    "np.all(np.equal(cupy.asnumpy(mask_cuda), mask_numba))"
   ]
  },
  {
   "cell_type": "code",
   "execution_count": 32,
   "metadata": {},
   "outputs": [
    {
     "name": "stdout",
     "output_type": "stream",
     "text": [
      "1.9 s ± 17.1 ms per loop (mean ± std. dev. of 7 runs, 10 loops each)\n"
     ]
    }
   ],
   "source": [
    "timing_awkward = %timeit -n10 -o get_os_muons_awkward(muon_charges, mask_awkward)"
   ]
  },
  {
   "cell_type": "code",
   "execution_count": 33,
   "metadata": {},
   "outputs": [
    {
     "data": {
      "text/plain": [
       "True"
      ]
     },
     "execution_count": 33,
     "metadata": {},
     "output_type": "execute_result"
    }
   ],
   "source": [
    "np.all(np.equal(cupy.asnumpy(mask_cuda), mask_awkward.content))"
   ]
  },
  {
   "cell_type": "code",
   "execution_count": 34,
   "metadata": {},
   "outputs": [],
   "source": [
    "avgs = []\n",
    "stddevs = []\n",
    "for t in [timing_python, timing_awkward, timing_numba, timing_cuda]:\n",
    "    avgs += [t.average]\n",
    "    stddevs += [t.stdev]\n",
    "    \n",
    "avgs = np.array(avgs)\n",
    "stddevs = np.array(stddevs)\n",
    "\n",
    "normfactor = len(muon_charges)"
   ]
  },
  {
   "cell_type": "code",
   "execution_count": 36,
   "metadata": {},
   "outputs": [
    {
     "data": {
      "text/plain": [
       "Text(0.5, 1.0, 'Events processed: 1.28E+06')"
      ]
     },
     "execution_count": 36,
     "metadata": {},
     "output_type": "execute_result"
    },
    {
     "data": {
      "image/png": "[encoded data removed]",
      "text/plain": [
       "<Figure size 432x288 with 1 Axes>"
      ]
     },
     "metadata": {
      "needs_background": "light"
     },
     "output_type": "display_data"
    }
   ],
   "source": [
    "plt.bar(range(len(avgs)), normfactor/avgs)\n",
    "plt.yscale(\"log\")\n",
    "plt.xticks(range(4), [\"python\", \"awkward\", \"numba-CPU\", \"numba-GPU\"])\n",
    "plt.ylabel(\"Processing rate (Hz)\")\n",
    "plt.title(\"Events processed: {0:.2E}\".format(normfactor))"
   ]
  },
  {
   "cell_type": "code",
   "execution_count": 37,
   "metadata": {},
   "outputs": [],
   "source": [
    "muon_mask_opposite_sign = awkward.array.jagged.JaggedArray(\n",
    "    muon_charges.starts,\n",
    "    muon_charges.stops,\n",
    "    cupy.asnumpy(mask_cuda).view(dtype=bool)\n",
    ")"
   ]
  },
  {
   "cell_type": "code",
   "execution_count": 38,
   "metadata": {},
   "outputs": [],
   "source": [
    "#check if we selected only opposite sign muons\n",
    "selected_charges = muon_charges[muon_mask_opposite_sign]"
   ]
  },
  {
   "cell_type": "code",
   "execution_count": 39,
   "metadata": {},
   "outputs": [
    {
     "data": {
      "text/plain": [
       "<JaggedArray [[1 -1] [] [1 -1] ... [1 -1] [1 -1] [1 -1]] at 0x7f1552b388d0>"
      ]
     },
     "execution_count": 39,
     "metadata": {},
     "output_type": "execute_result"
    }
   ],
   "source": [
    "selected_charges"
   ]
  },
  {
   "cell_type": "code",
   "execution_count": 40,
   "metadata": {},
   "outputs": [],
   "source": [
    "arrs = tt.arrays([b\"Muon_pt\", b\"Muon_eta\", b\"Muon_phi\", b\"Muon_tightId\", b\"Muon_charge\"])"
   ]
  },
  {
   "cell_type": "code",
   "execution_count": 44,
   "metadata": {},
   "outputs": [],
   "source": [
    "class JaggedStruct(object):\n",
    "    def __init__(self, offsets, attrs_data, numpy_lib=np):\n",
    "        self.numpy_lib = numpy_lib\n",
    "        \n",
    "        self.offsets = offsets\n",
    "        self.attrs_data = attrs_data\n",
    "        \n",
    "        num_items = None\n",
    "        for (k, v) in self.attrs_data.items():\n",
    "            num_items_next = len(v)\n",
    "            if num_items and num_items != num_items_next:\n",
    "                raise AttributeError(\"Mismatched attribute {0}\".format(k))\n",
    "            else:\n",
    "                num_items = num_items_next\n",
    "            setattr(self, k, v)\n",
    "    \n",
    "        self.mask = self.numpy_lib.ones(num_items, dtype=self.numpy_lib.int8)\n",
    "        \n",
    "    @staticmethod\n",
    "    def from_arraydict(arraydict, prefix, numpy_lib=np):\n",
    "        ks = [k for k in arraydict.keys() if prefix in str(k, 'ascii')]\n",
    "        k0 = ks[0]\n",
    "        return JaggedStruct(\n",
    "            numpy_lib.array(arraydict[k0].offsets),\n",
    "            {str(k, 'ascii').replace(prefix, \"\"): numpy_lib.array(v.content)\n",
    "             for (k,v) in arraydict.items()},\n",
    "            numpy_lib=numpy_lib\n",
    "        )"
   ]
  },
  {
   "cell_type": "code",
   "execution_count": 65,
   "metadata": {},
   "outputs": [],
   "source": [
    "@cuda.jit('void(int32[:], int64[:], int8[:])')\n",
    "def select_opposite_sign_muons_cudakernel(muon_charges_content, muon_charges_offsets, muon_mask_out):\n",
    "    xi = cuda.grid(1)\n",
    "    xstride = cuda.gridsize(1)\n",
    "    \n",
    "    for iev in range(xi, muon_charges_offsets.shape[0]-1, xstride):\n",
    "        start = muon_charges_offsets[iev]\n",
    "        end = muon_charges_offsets[iev + 1]\n",
    "        \n",
    "        ch1 = muon_charges_content[start]\n",
    "        \n",
    "        for imuon in range(start+1, end):\n",
    "            ch2 = muon_charges_content[imuon]\n",
    "            if (ch2 != ch1):\n",
    "                muon_mask_out[start] = 0\n",
    "                muon_mask_out[imuon] = 0\n",
    "                break\n",
    "    return\n",
    "\n",
    "\n",
    "@cuda.jit('void(int8[:], int64[:], int8[:])')\n",
    "def sum_in_event(content, offsets, out):\n",
    "    xi = cuda.grid(1)\n",
    "    xstride = cuda.gridsize(1)\n",
    "\n",
    "    for iev in range(xi, offsets.shape[0]-1, xstride):\n",
    "        start = offsets[iev]\n",
    "        end = offsets[iev + 1]\n",
    "        for ielem in range(start, end):\n",
    "            out[iev] += content[ielem]\n",
    "\n",
    "def select_muons_opposite_sign(muons, mask_name=None):\n",
    "    if not mask_name:\n",
    "        select_opposite_sign_muons_cudakernel[32,1024](muons.charge, muons.offsets, muons.mask)\n",
    "    else:\n",
    "        mask = muons.numpy_lib.ones_like(muons.mask)\n",
    "        select_opposite_sign_muons_cudakernel[32,1024](muons.charge, muons.offsets, mask)\n",
    "        setattr(muons, mask_name, mask)\n",
    "        \n",
    "def select_muons_pt(muons, ptcut, mask_name=None):\n",
    "    if not mask_name:\n",
    "        muons.mask = muons.mask & (muons.pt > ptcut)\n",
    "    else:\n",
    "        setattr(muons, mask_name, muons.pt > ptcut)"
   ]
  },
  {
   "cell_type": "code",
   "execution_count": 46,
   "metadata": {},
   "outputs": [],
   "source": [
    "muons = JaggedStruct.from_arraydict(arrs, \"Muon_\", cupy)\n",
    "select_muons_pt(muons, 30, \"mask_subleading\")\n",
    "select_muons_pt(muons, 30, \"mask_leading\")"
   ]
  },
  {
   "cell_type": "code",
   "execution_count": 47,
   "metadata": {},
   "outputs": [
    {
     "data": {
      "text/plain": [
       "array([ True,  True,  True, ..., False,  True,  True])"
      ]
     },
     "execution_count": 47,
     "metadata": {},
     "output_type": "execute_result"
    }
   ],
   "source": [
    "muons.mask_subleading\n",
    "muons.mask_leading"
   ]
  },
  {
   "cell_type": "code",
   "execution_count": 62,
   "metadata": {},
   "outputs": [
    {
     "name": "stdout",
     "output_type": "stream",
     "text": [
      "539 µs ± 11.5 µs per loop (mean ± std. dev. of 7 runs, 1000 loops each)\n"
     ]
    }
   ],
   "source": [
    "sum_out = cupy.zeros_like(muons.offsets, dtype=cupy.int8)\n",
    "%timeit sum_in_event[128, 1024](muons.mask_subleading, muons.offsets, sum_out);numba.cuda.synchronize()"
   ]
  },
  {
   "cell_type": "code",
   "execution_count": 56,
   "metadata": {},
   "outputs": [],
   "source": [
    "awkward.JaggedArray.fromoffsets?"
   ]
  },
  {
   "cell_type": "code",
   "execution_count": 58,
   "metadata": {},
   "outputs": [],
   "source": [
    "mask_sl =awkward.JaggedArray.fromoffsets(\n",
    "    cupy.asnumpy(muons.offsets),\n",
    "    cupy.asnumpy(muons.mask_subleading),\n",
    ")"
   ]
  },
  {
   "cell_type": "code",
   "execution_count": 60,
   "metadata": {},
   "outputs": [
    {
     "name": "stdout",
     "output_type": "stream",
     "text": [
      "22.9 ms ± 1.47 ms per loop (mean ± std. dev. of 7 runs, 10 loops each)\n"
     ]
    }
   ],
   "source": [
    "%timeit mask_sl.sum()"
   ]
  },
  {
   "cell_type": "code",
   "execution_count": null,
   "metadata": {},
   "outputs": [],
   "source": []
  }
 ],
 "metadata": {
  "kernelspec": {
   "display_name": "Python 3",
   "language": "python",
   "name": "python3"
  },
  "language_info": {
   "codemirror_mode": {
    "name": "ipython",
    "version": 3
   },
   "file_extension": ".py",
   "mimetype": "text/x-python",
   "name": "python",
   "nbconvert_exporter": "python",
   "pygments_lexer": "ipython3",
   "version": "3.6.7"
  }
 },
 "nbformat": 4,
 "nbformat_minor": 2
}
