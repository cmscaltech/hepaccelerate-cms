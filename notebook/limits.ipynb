{
 "cells": [
  {
   "cell_type": "code",
   "execution_count": 1,
   "metadata": {},
   "outputs": [],
   "source": [
    "#!pip3 install nvidia-ml-py3"
   ]
  },
  {
   "cell_type": "code",
   "execution_count": 1,
   "metadata": {},
   "outputs": [],
   "source": [
    "import matplotlib.pyplot as plt"
   ]
  },
  {
   "cell_type": "code",
   "execution_count": 2,
   "metadata": {},
   "outputs": [],
   "source": [
    "import sys, os\n",
    "os.environ[\"NUMBA_NUM_THREADS\"] = str(16)\n",
    "\n",
    "sys.path += [\"../\", \"../tests/\"]\n",
    "import hepaccelerate\n",
    "import hepaccelerate.backend_cpu as backend_cpu\n",
    "import analysis_hmumu\n",
    "import glob\n",
    "import numpy as np\n",
    "import cupy\n",
    "import copy\n",
    "from hepaccelerate.plotting import midpoints, plot_hist_step\n",
    "import json\n",
    "\n",
    "analysis_hmumu.NUMPY_LIB = np\n",
    "analysis_hmumu.ha = backend_cpu\n",
    "from analysis_hmumu import *\n",
    "\n",
    "hepaccelerate.utils.NanoAODDataset.NUMPY_LIB = np"
   ]
  },
  {
   "cell_type": "code",
   "execution_count": 3,
   "metadata": {},
   "outputs": [],
   "source": [
    "def print_dt(dt, depth=0):\n",
    "    indent = depth*\" \"\n",
    "    if isinstance(dt, DecisionTreeNode):\n",
    "        print(indent, \"Node({0}>{1})\".format(dt.varname, dt.cut))\n",
    "        print_dt(dt.child_left, depth + 1)\n",
    "        print_dt(dt.child_right, depth + 1)\n",
    "    elif isinstance(dt, DecisionTreeLeaf):\n",
    "        print(indent, \"Leaf({0})\".format(dt.value))"
   ]
  },
  {
   "cell_type": "code",
   "execution_count": 22,
   "metadata": {},
   "outputs": [
    {
     "data": {
      "text/plain": [
       "(array([ 0.,  0.,  0.,  0.,  0.,  0.,  0.,  0.,  0.,  2., 24.,  3.,  2.,\n",
       "         1.,  4.,  2.,  0.,  0.,  0.,  0.,  0.,  0.,  0.,  0.,  0.,  0.,\n",
       "         0.,  0.,  0.,  2.,  0.,  0.,  7., 16.,  2.,  4.,  0.,  0.,  0.,\n",
       "         0.,  0.,  0.,  0.,  0.,  0.,  0.,  2.,  2.,  0.,  0.,  0.,  0.,\n",
       "         6.,  2.,  5.,  8.,  0.,  4.,  0.,  0.,  0.,  0.,  0.,  0.,  0.,\n",
       "         3.,  0.,  0.,  0.,  0.,  0.,  0.,  0.,  0.,  2.,  0.,  0.,  0.,\n",
       "         0.,  0.,  0.,  0.,  0.,  0.,  0.,  0.,  0.,  0.,  0.,  0.,  0.,\n",
       "         0.,  0.,  0.,  0.,  0.,  0.,  0.,  0.]),\n",
       " array([0.7       , 0.7020202 , 0.7040404 , 0.70606061, 0.70808081,\n",
       "        0.71010101, 0.71212121, 0.71414141, 0.71616162, 0.71818182,\n",
       "        0.72020202, 0.72222222, 0.72424242, 0.72626263, 0.72828283,\n",
       "        0.73030303, 0.73232323, 0.73434343, 0.73636364, 0.73838384,\n",
       "        0.74040404, 0.74242424, 0.74444444, 0.74646465, 0.74848485,\n",
       "        0.75050505, 0.75252525, 0.75454545, 0.75656566, 0.75858586,\n",
       "        0.76060606, 0.76262626, 0.76464646, 0.76666667, 0.76868687,\n",
       "        0.77070707, 0.77272727, 0.77474747, 0.77676768, 0.77878788,\n",
       "        0.78080808, 0.78282828, 0.78484848, 0.78686869, 0.78888889,\n",
       "        0.79090909, 0.79292929, 0.79494949, 0.7969697 , 0.7989899 ,\n",
       "        0.8010101 , 0.8030303 , 0.80505051, 0.80707071, 0.80909091,\n",
       "        0.81111111, 0.81313131, 0.81515152, 0.81717172, 0.81919192,\n",
       "        0.82121212, 0.82323232, 0.82525253, 0.82727273, 0.82929293,\n",
       "        0.83131313, 0.83333333, 0.83535354, 0.83737374, 0.83939394,\n",
       "        0.84141414, 0.84343434, 0.84545455, 0.84747475, 0.84949495,\n",
       "        0.85151515, 0.85353535, 0.85555556, 0.85757576, 0.85959596,\n",
       "        0.86161616, 0.86363636, 0.86565657, 0.86767677, 0.86969697,\n",
       "        0.87171717, 0.87373737, 0.87575758, 0.87777778, 0.87979798,\n",
       "        0.88181818, 0.88383838, 0.88585859, 0.88787879, 0.88989899,\n",
       "        0.89191919, 0.89393939, 0.8959596 , 0.8979798 , 0.9       ]),\n",
       " <a list of 99 Patch objects>)"
      ]
     },
     "execution_count": 22,
     "metadata": {},
     "output_type": "execute_result"
    },
    {
     "data": {
      "image/png": "[encoded data removed]",
      "text/plain": [
       "<Figure size 432x288 with 1 Axes>"
      ]
     },
     "metadata": {
      "needs_background": "light"
     },
     "output_type": "display_data"
    }
   ],
   "source": [
    "sigs = pickle.load(open(\"../out0/iter_0/sigs.pickle\", \"rb\"))\n",
    "plt.hist([s[1] for s in sigs], bins=np.linspace(0.7,0.9,100))\n",
    "\n",
    "sigs = pickle.load(open(\"../out0/iter_1/sigs.pickle\", \"rb\"))\n",
    "plt.hist([s[1] for s in sigs], bins=np.linspace(0.7,0.9,100))\n",
    "\n",
    "sigs = pickle.load(open(\"../out0/iter_2/sigs.pickle\", \"rb\"))\n",
    "plt.hist([s[1] for s in sigs], bins=np.linspace(0.7,0.9,100))\n",
    "\n",
    "sigs = pickle.load(open(\"../out0/iter_3/sigs.pickle\", \"rb\"))\n",
    "plt.hist([s[1] for s in sigs], bins=np.linspace(0.7,0.9,100))\n",
    "\n",
    "sigs = pickle.load(open(\"../out0/iter_4/sigs.pickle\", \"rb\"))\n",
    "plt.hist([s[1] for s in sigs], bins=np.linspace(0.7,0.9,100))\n",
    "\n",
    "sigs = pickle.load(open(\"../out0/iter_5/sigs.pickle\", \"rb\"))\n",
    "plt.hist([s[1] for s in sigs], bins=np.linspace(0.7,0.9,100))"
   ]
  },
  {
   "cell_type": "code",
   "execution_count": 154,
   "metadata": {},
   "outputs": [
    {
     "name": "stdout",
     "output_type": "stream",
     "text": [
      "((0.8536934176401261, 0.0), (0.706280018278541, 0.0))\n"
     ]
    }
   ],
   "source": [
    "od = \"out12\"\n",
    "p = \"iter_8\"\n",
    "an = \"an_cuts_1\"\n",
    "r = load_analysis(\"../{0}/{1}\".format(od, p), cross_sections, [\"varA\", \"varB\", an])\n",
    "pars = pickle.load(open(\"../{0}/{1}/parameters.pickle\".format(od, p), 'rb'))\n",
    "templates = [c for c in r[\"ggh\"][an].keys() if \"__cat\" in c and c.endswith(\"__inv_mass\")]\n",
    "Z = significance_templates(r, an, templates, do_plots=False)\n",
    "dg = pars[\"baseline\"][\"categorization_trees\"][an].make_dot()\n",
    "print(Z)"
   ]
  },
  {
   "cell_type": "code",
   "execution_count": 146,
   "metadata": {},
   "outputs": [
    {
     "data": {
      "text/plain": [
       "'./best2.pdf'"
      ]
     },
     "execution_count": 146,
     "metadata": {},
     "output_type": "execute_result"
    }
   ],
   "source": [
    "dg.render(\"./best2\")"
   ]
  },
  {
   "cell_type": "code",
   "execution_count": 124,
   "metadata": {},
   "outputs": [
    {
     "data": {
      "text/plain": [
       "Text(0, 0.5, 'Number of events / bin')"
      ]
     },
     "execution_count": 124,
     "metadata": {},
     "output_type": "execute_result"
    },
    {
     "data": {
      "image/png": "[encoded data removed]",
      "text/plain": [
       "<Figure size 360x360 with 1 Axes>"
      ]
     },
     "metadata": {
      "needs_background": "light"
     },
     "output_type": "display_data"
    }
   ],
   "source": [
    "fig = plt.figure(figsize=(5,5))\n",
    "ax = plt.axes()\n",
    "plt.title(\"cat1, signal\")\n",
    "for hn in [\"ggh\", \"vbf\", \"tth\", \"zh\", \"wmh\", \"wph\"]:\n",
    "    h = r[hn][\"varA\"][\"hist__cat1__inv_mass\"][\"puWeight\"]\n",
    "    #h = (1.0 / np.sum(h.contents)) * h\n",
    "    plot_hist_step(ax, h.edges, h.contents, np.sqrt(h.contents_w2), kwargs_step={\"label\": \"{0} ({1:.2E})\".format(hn, np.sum(h.contents))})\n",
    "plt.legend(frameon=False, ncol=2)\n",
    "plt.yscale(\"log\")\n",
    "plt.ylim(0.001,1000)\n",
    "plt.xlabel(\"Dimuon invariant mass\")\n",
    "plt.ylabel(\"Number of events / bin\")"
   ]
  },
  {
   "cell_type": "code",
   "execution_count": 125,
   "metadata": {},
   "outputs": [
    {
     "data": {
      "text/plain": [
       "Text(0, 0.5, 'Number of events / bin')"
      ]
     },
     "execution_count": 125,
     "metadata": {},
     "output_type": "execute_result"
    },
    {
     "data": {
      "image/png": "[encoded data removed]",
      "text/plain": [
       "<Figure size 360x360 with 1 Axes>"
      ]
     },
     "metadata": {
      "needs_background": "light"
     },
     "output_type": "display_data"
    }
   ],
   "source": [
    "fig = plt.figure(figsize=(5,5))\n",
    "ax = plt.axes()\n",
    "plt.title(\"cat1, background\")\n",
    "labels = [\"DY\", \"tt+jets\", \"VV\"]\n",
    "for i, hn in enumerate([\n",
    "    \"dy\",\n",
    "    [\"ttjets_sl\", \"ttjets_dl\"],\n",
    "    [\"ww_2l2nu\", \"wz_3lnu\", \"wz_3lnu\", \"wz_2l2q\", \"wz_1l1nu2q\", \"zz\"]]):\n",
    "    if isinstance(hn, str):\n",
    "        h = r[hn][\"varA\"][\"hist__cat1__inv_mass\"][\"puWeight\"]\n",
    "    else:\n",
    "        h = sum([r[h][\"varA\"][\"hist__cat0__inv_mass\"][\"puWeight\"] for h in hn[1:]], r[hn[0]][\"varA\"][\"hist__cat0__inv_mass\"][\"puWeight\"])\n",
    "    #h = (1.0 / np.sum(h.contents)) * h\n",
    "    \n",
    "    plot_hist_step(ax, h.edges, h.contents, np.sqrt(h.contents_w2),\n",
    "                   kwargs_step={\"label\": \"{0} ({1:.2E})\".format(labels[i], np.sum(h.contents))})\n",
    "plt.legend(frameon=False, ncol=1)\n",
    "plt.yscale(\"log\")\n",
    "plt.ylim(1,10**5)\n",
    "plt.xlabel(\"Dimuon invariant mass\")\n",
    "plt.ylabel(\"Number of events / bin\")"
   ]
  },
  {
   "cell_type": "code",
   "execution_count": 72,
   "metadata": {},
   "outputs": [
    {
     "data": {
      "image/svg+xml": [
       "<?xml version=\"1.0\" encoding=\"UTF-8\" standalone=\"no\"?>\n",
       "<!DOCTYPE svg PUBLIC \"-//W3C//DTD SVG 1.1//EN\"\n",
       " \"http://www.w3.org/Graphics/SVG/1.1/DTD/svg11.dtd\">\n",
       "<!-- Generated by graphviz version 2.40.1 (20161225.0304)\n",
       " -->\n",
       "<!-- Title: %3 Pages: 1 -->\n",
       "<svg width=\"1117pt\" height=\"479pt\"\n",
       " viewBox=\"0.00 0.00 1117.44 479.00\" xmlns=\"http://www.w3.org/2000/svg\" xmlns:xlink=\"http://www.w3.org/1999/xlink\">\n",
       "<g id=\"graph0\" class=\"graph\" transform=\"scale(1 1) rotate(0) translate(4 475)\">\n",
       "<title>%3</title>\n",
       "<polygon fill=\"#ffffff\" stroke=\"transparent\" points=\"-4,4 -4,-475 1113.4423,-475 1113.4423,4 -4,4\"/>\n",
       "<!-- Node(0) -->\n",
       "<g id=\"node1\" class=\"node\">\n",
       "<title>Node(0)</title>\n",
       "<polygon fill=\"none\" stroke=\"#000000\" points=\"708.7964,-471 565.7964,-471 565.7964,-435 708.7964,-435 708.7964,-471\"/>\n",
       "<text text-anchor=\"middle\" x=\"637.2964\" y=\"-449.3\" font-family=\"Times,serif\" font-size=\"14.00\" fill=\"#000000\">num_jets_btag&gt;0</text>\n",
       "</g>\n",
       "<!-- Node(1) -->\n",
       "<g id=\"node2\" class=\"node\">\n",
       "<title>Node(1)</title>\n",
       "<polygon fill=\"none\" stroke=\"#000000\" points=\"628.7964,-384 467.7964,-384 467.7964,-348 628.7964,-348 628.7964,-384\"/>\n",
       "<text text-anchor=\"middle\" x=\"548.2964\" y=\"-362.3\" font-family=\"Times,serif\" font-size=\"14.00\" fill=\"#000000\">dijet_inv_mass&gt;500</text>\n",
       "</g>\n",
       "<!-- Node(0)&#45;&gt;Node(1) -->\n",
       "<g id=\"edge23\" class=\"edge\">\n",
       "<title>Node(0)&#45;&gt;Node(1)</title>\n",
       "<path fill=\"none\" stroke=\"#000000\" d=\"M618.8556,-434.9735C605.8483,-422.2586 588.2546,-405.0603 573.8898,-391.0183\"/>\n",
       "<polygon fill=\"#000000\" stroke=\"#000000\" points=\"576.3112,-388.4908 566.7137,-384.0034 571.418,-393.4965 576.3112,-388.4908\"/>\n",
       "<text text-anchor=\"middle\" x=\"603.2964\" y=\"-405.8\" font-family=\"Times,serif\" font-size=\"14.00\" fill=\"#000000\">n</text>\n",
       "</g>\n",
       "<!-- Node(9) -->\n",
       "<g id=\"node19\" class=\"node\">\n",
       "<title>Node(9)</title>\n",
       "<polygon fill=\"none\" stroke=\"#000000\" points=\"807.7964,-384 646.7964,-384 646.7964,-348 807.7964,-348 807.7964,-384\"/>\n",
       "<text text-anchor=\"middle\" x=\"727.2964\" y=\"-362.3\" font-family=\"Times,serif\" font-size=\"14.00\" fill=\"#000000\">dijet_inv_mass&gt;350</text>\n",
       "</g>\n",
       "<!-- Node(0)&#45;&gt;Node(9) -->\n",
       "<g id=\"edge24\" class=\"edge\">\n",
       "<title>Node(0)&#45;&gt;Node(9)</title>\n",
       "<path fill=\"none\" stroke=\"#000000\" d=\"M655.9445,-434.9735C669.0979,-422.2586 686.8892,-405.0603 701.4155,-391.0183\"/>\n",
       "<polygon fill=\"#000000\" stroke=\"#000000\" points=\"703.9149,-393.4701 708.6723,-384.0034 699.0498,-388.4371 703.9149,-393.4701\"/>\n",
       "<text text-anchor=\"middle\" x=\"692.7964\" y=\"-405.8\" font-family=\"Times,serif\" font-size=\"14.00\" fill=\"#000000\">y</text>\n",
       "</g>\n",
       "<!-- Node(2) -->\n",
       "<g id=\"node3\" class=\"node\">\n",
       "<title>Node(2)</title>\n",
       "<polygon fill=\"none\" stroke=\"#000000\" points=\"366.7964,-297 263.7964,-297 263.7964,-261 366.7964,-261 366.7964,-297\"/>\n",
       "<text text-anchor=\"middle\" x=\"315.2964\" y=\"-275.3\" font-family=\"Times,serif\" font-size=\"14.00\" fill=\"#000000\">num_jets&gt;1</text>\n",
       "</g>\n",
       "<!-- Node(1)&#45;&gt;Node(2) -->\n",
       "<g id=\"edge15\" class=\"edge\">\n",
       "<title>Node(1)&#45;&gt;Node(2)</title>\n",
       "<path fill=\"none\" stroke=\"#000000\" d=\"M500.0187,-347.9735C463.1542,-334.2087 412.2181,-315.1896 373.1683,-300.6088\"/>\n",
       "<polygon fill=\"#000000\" stroke=\"#000000\" points=\"374.1049,-297.2226 363.5123,-297.0034 371.6562,-303.7803 374.1049,-297.2226\"/>\n",
       "<text text-anchor=\"middle\" x=\"451.2964\" y=\"-318.8\" font-family=\"Times,serif\" font-size=\"14.00\" fill=\"#000000\">n</text>\n",
       "</g>\n",
       "<!-- Node(5) -->\n",
       "<g id=\"node10\" class=\"node\">\n",
       "<title>Node(5)</title>\n",
       "<polygon fill=\"none\" stroke=\"#000000\" points=\"663.2964,-297 467.2964,-297 467.2964,-261 663.2964,-261 663.2964,-297\"/>\n",
       "<text text-anchor=\"middle\" x=\"565.2964\" y=\"-275.3\" font-family=\"Times,serif\" font-size=\"14.00\" fill=\"#000000\">leading_mu_abs_eta&gt;1.0</text>\n",
       "</g>\n",
       "<!-- Node(1)&#45;&gt;Node(5) -->\n",
       "<g id=\"edge16\" class=\"edge\">\n",
       "<title>Node(1)&#45;&gt;Node(5)</title>\n",
       "<path fill=\"none\" stroke=\"#000000\" d=\"M551.8188,-347.9735C554.121,-336.1918 557.1754,-320.5607 559.7943,-307.1581\"/>\n",
       "<polygon fill=\"#000000\" stroke=\"#000000\" points=\"563.2957,-307.489 561.7785,-297.0034 556.4257,-306.1465 563.2957,-307.489\"/>\n",
       "<text text-anchor=\"middle\" x=\"562.7964\" y=\"-318.8\" font-family=\"Times,serif\" font-size=\"14.00\" fill=\"#000000\">y</text>\n",
       "</g>\n",
       "<!-- Node(3) -->\n",
       "<g id=\"node4\" class=\"node\">\n",
       "<title>Node(3)</title>\n",
       "<polygon fill=\"none\" stroke=\"#000000\" points=\"223.7964,-210 54.7964,-210 54.7964,-174 223.7964,-174 223.7964,-210\"/>\n",
       "<text text-anchor=\"middle\" x=\"139.2964\" y=\"-188.3\" font-family=\"Times,serif\" font-size=\"14.00\" fill=\"#000000\">additional_leptons&gt;4</text>\n",
       "</g>\n",
       "<!-- Node(2)&#45;&gt;Node(3) -->\n",
       "<g id=\"edge5\" class=\"edge\">\n",
       "<title>Node(2)&#45;&gt;Node(3)</title>\n",
       "<path fill=\"none\" stroke=\"#000000\" d=\"M278.8291,-260.9735C251.573,-247.5003 214.1332,-228.9932 184.8975,-214.5415\"/>\n",
       "<polygon fill=\"#000000\" stroke=\"#000000\" points=\"186.2326,-211.2972 175.717,-210.0034 183.1306,-217.5724 186.2326,-211.2972\"/>\n",
       "<text text-anchor=\"middle\" x=\"243.2964\" y=\"-231.8\" font-family=\"Times,serif\" font-size=\"14.00\" fill=\"#000000\">n</text>\n",
       "</g>\n",
       "<!-- Node(4) -->\n",
       "<g id=\"node7\" class=\"node\">\n",
       "<title>Node(4)</title>\n",
       "<polygon fill=\"none\" stroke=\"#000000\" points=\"366.7964,-210 263.7964,-210 263.7964,-174 366.7964,-174 366.7964,-210\"/>\n",
       "<text text-anchor=\"middle\" x=\"315.2964\" y=\"-188.3\" font-family=\"Times,serif\" font-size=\"14.00\" fill=\"#000000\">num_jets&gt;4</text>\n",
       "</g>\n",
       "<!-- Node(2)&#45;&gt;Node(4) -->\n",
       "<g id=\"edge6\" class=\"edge\">\n",
       "<title>Node(2)&#45;&gt;Node(4)</title>\n",
       "<path fill=\"none\" stroke=\"#000000\" d=\"M315.2964,-260.9735C315.2964,-249.1918 315.2964,-233.5607 315.2964,-220.1581\"/>\n",
       "<polygon fill=\"#000000\" stroke=\"#000000\" points=\"318.7965,-220.0033 315.2964,-210.0034 311.7965,-220.0034 318.7965,-220.0033\"/>\n",
       "<text text-anchor=\"middle\" x=\"319.7964\" y=\"-231.8\" font-family=\"Times,serif\" font-size=\"14.00\" fill=\"#000000\">y</text>\n",
       "</g>\n",
       "<!-- Cat(0) -->\n",
       "<g id=\"node5\" class=\"node\">\n",
       "<title>Cat(0)</title>\n",
       "<ellipse fill=\"none\" stroke=\"#000000\" cx=\"40.2964\" cy=\"-105\" rx=\"40.0939\" ry=\"18\"/>\n",
       "<text text-anchor=\"middle\" x=\"40.2964\" y=\"-101.3\" font-family=\"Times,serif\" font-size=\"14.00\" fill=\"#000000\">Cat(0)</text>\n",
       "</g>\n",
       "<!-- Node(3)&#45;&gt;Cat(0) -->\n",
       "<g id=\"edge1\" class=\"edge\">\n",
       "<title>Node(3)&#45;&gt;Cat(0)</title>\n",
       "<path fill=\"none\" stroke=\"#000000\" d=\"M118.7836,-173.9735C103.598,-160.6287 82.7927,-142.3452 66.4182,-127.9555\"/>\n",
       "<polygon fill=\"#000000\" stroke=\"#000000\" points=\"68.6018,-125.215 58.7797,-121.2429 63.9809,-130.4731 68.6018,-125.215\"/>\n",
       "<text text-anchor=\"middle\" x=\"101.2964\" y=\"-144.8\" font-family=\"Times,serif\" font-size=\"14.00\" fill=\"#000000\">n</text>\n",
       "</g>\n",
       "<!-- Cat(1) -->\n",
       "<g id=\"node6\" class=\"node\">\n",
       "<title>Cat(1)</title>\n",
       "<ellipse fill=\"none\" stroke=\"#000000\" cx=\"139.2964\" cy=\"-105\" rx=\"40.0939\" ry=\"18\"/>\n",
       "<text text-anchor=\"middle\" x=\"139.2964\" y=\"-101.3\" font-family=\"Times,serif\" font-size=\"14.00\" fill=\"#000000\">Cat(1)</text>\n",
       "</g>\n",
       "<!-- Node(3)&#45;&gt;Cat(1) -->\n",
       "<g id=\"edge2\" class=\"edge\">\n",
       "<title>Node(3)&#45;&gt;Cat(1)</title>\n",
       "<path fill=\"none\" stroke=\"#000000\" d=\"M139.2964,-173.9735C139.2964,-162.1918 139.2964,-146.5607 139.2964,-133.1581\"/>\n",
       "<polygon fill=\"#000000\" stroke=\"#000000\" points=\"142.7965,-133.0033 139.2964,-123.0034 135.7965,-133.0034 142.7965,-133.0033\"/>\n",
       "<text text-anchor=\"middle\" x=\"143.7964\" y=\"-144.8\" font-family=\"Times,serif\" font-size=\"14.00\" fill=\"#000000\">y</text>\n",
       "</g>\n",
       "<!-- Cat(2) -->\n",
       "<g id=\"node8\" class=\"node\">\n",
       "<title>Cat(2)</title>\n",
       "<ellipse fill=\"none\" stroke=\"#000000\" cx=\"238.2964\" cy=\"-105\" rx=\"40.0939\" ry=\"18\"/>\n",
       "<text text-anchor=\"middle\" x=\"238.2964\" y=\"-101.3\" font-family=\"Times,serif\" font-size=\"14.00\" fill=\"#000000\">Cat(2)</text>\n",
       "</g>\n",
       "<!-- Node(4)&#45;&gt;Cat(2) -->\n",
       "<g id=\"edge3\" class=\"edge\">\n",
       "<title>Node(4)&#45;&gt;Cat(2)</title>\n",
       "<path fill=\"none\" stroke=\"#000000\" d=\"M299.342,-173.9735C288.0004,-161.159 272.6285,-143.7907 260.1477,-129.6891\"/>\n",
       "<polygon fill=\"#000000\" stroke=\"#000000\" points=\"262.4341,-126.9915 253.1856,-121.8228 257.1923,-131.6308 262.4341,-126.9915\"/>\n",
       "<text text-anchor=\"middle\" x=\"287.2964\" y=\"-144.8\" font-family=\"Times,serif\" font-size=\"14.00\" fill=\"#000000\">n</text>\n",
       "</g>\n",
       "<!-- Cat(3) -->\n",
       "<g id=\"node9\" class=\"node\">\n",
       "<title>Cat(3)</title>\n",
       "<ellipse fill=\"none\" stroke=\"#000000\" cx=\"337.2964\" cy=\"-105\" rx=\"40.0939\" ry=\"18\"/>\n",
       "<text text-anchor=\"middle\" x=\"337.2964\" y=\"-101.3\" font-family=\"Times,serif\" font-size=\"14.00\" fill=\"#000000\">Cat(3)</text>\n",
       "</g>\n",
       "<!-- Node(4)&#45;&gt;Cat(3) -->\n",
       "<g id=\"edge4\" class=\"edge\">\n",
       "<title>Node(4)&#45;&gt;Cat(3)</title>\n",
       "<path fill=\"none\" stroke=\"#000000\" d=\"M319.8548,-173.9735C322.8636,-162.0751 326.8652,-146.2508 330.2765,-132.7606\"/>\n",
       "<polygon fill=\"#000000\" stroke=\"#000000\" points=\"333.6854,-133.5563 332.7438,-123.0034 326.899,-131.8401 333.6854,-133.5563\"/>\n",
       "<text text-anchor=\"middle\" x=\"332.7964\" y=\"-144.8\" font-family=\"Times,serif\" font-size=\"14.00\" fill=\"#000000\">y</text>\n",
       "</g>\n",
       "<!-- Node(6) -->\n",
       "<g id=\"node11\" class=\"node\">\n",
       "<title>Node(6)</title>\n",
       "<polygon fill=\"none\" stroke=\"#000000\" points=\"616.7964,-210 513.7964,-210 513.7964,-174 616.7964,-174 616.7964,-210\"/>\n",
       "<text text-anchor=\"middle\" x=\"565.2964\" y=\"-188.3\" font-family=\"Times,serif\" font-size=\"14.00\" fill=\"#000000\">num_jets&gt;2</text>\n",
       "</g>\n",
       "<!-- Node(5)&#45;&gt;Node(6) -->\n",
       "<g id=\"edge13\" class=\"edge\">\n",
       "<title>Node(5)&#45;&gt;Node(6)</title>\n",
       "<path fill=\"none\" stroke=\"#000000\" d=\"M565.2964,-260.9735C565.2964,-249.1918 565.2964,-233.5607 565.2964,-220.1581\"/>\n",
       "<polygon fill=\"#000000\" stroke=\"#000000\" points=\"568.7965,-220.0033 565.2964,-210.0034 561.7965,-220.0034 568.7965,-220.0033\"/>\n",
       "<text text-anchor=\"middle\" x=\"570.2964\" y=\"-231.8\" font-family=\"Times,serif\" font-size=\"14.00\" fill=\"#000000\">n</text>\n",
       "</g>\n",
       "<!-- Node(8) -->\n",
       "<g id=\"node16\" class=\"node\">\n",
       "<title>Node(8)</title>\n",
       "<polygon fill=\"none\" stroke=\"#000000\" points=\"773.7964,-210 670.7964,-210 670.7964,-174 773.7964,-174 773.7964,-210\"/>\n",
       "<text text-anchor=\"middle\" x=\"722.2964\" y=\"-188.3\" font-family=\"Times,serif\" font-size=\"14.00\" fill=\"#000000\">num_jets&gt;5</text>\n",
       "</g>\n",
       "<!-- Node(5)&#45;&gt;Node(8) -->\n",
       "<g id=\"edge14\" class=\"edge\">\n",
       "<title>Node(5)&#45;&gt;Node(8)</title>\n",
       "<path fill=\"none\" stroke=\"#000000\" d=\"M597.8269,-260.9735C621.9301,-247.617 654.961,-229.3133 680.9391,-214.9177\"/>\n",
       "<polygon fill=\"#000000\" stroke=\"#000000\" points=\"682.7572,-217.9118 689.8076,-210.0034 679.3643,-211.789 682.7572,-217.9118\"/>\n",
       "<text text-anchor=\"middle\" x=\"657.7964\" y=\"-231.8\" font-family=\"Times,serif\" font-size=\"14.00\" fill=\"#000000\">y</text>\n",
       "</g>\n",
       "<!-- Cat(4) -->\n",
       "<g id=\"node12\" class=\"node\">\n",
       "<title>Cat(4)</title>\n",
       "<ellipse fill=\"none\" stroke=\"#000000\" cx=\"436.2964\" cy=\"-105\" rx=\"40.0939\" ry=\"18\"/>\n",
       "<text text-anchor=\"middle\" x=\"436.2964\" y=\"-101.3\" font-family=\"Times,serif\" font-size=\"14.00\" fill=\"#000000\">Cat(4)</text>\n",
       "</g>\n",
       "<!-- Node(6)&#45;&gt;Cat(4) -->\n",
       "<g id=\"edge9\" class=\"edge\">\n",
       "<title>Node(6)&#45;&gt;Cat(4)</title>\n",
       "<path fill=\"none\" stroke=\"#000000\" d=\"M538.5675,-173.9735C517.8117,-159.9754 488.9987,-140.5434 467.2435,-125.8713\"/>\n",
       "<polygon fill=\"#000000\" stroke=\"#000000\" points=\"468.9406,-122.7943 458.6928,-120.1046 465.0266,-128.5978 468.9406,-122.7943\"/>\n",
       "<text text-anchor=\"middle\" x=\"514.2964\" y=\"-144.8\" font-family=\"Times,serif\" font-size=\"14.00\" fill=\"#000000\">n</text>\n",
       "</g>\n",
       "<!-- Node(7) -->\n",
       "<g id=\"node13\" class=\"node\">\n",
       "<title>Node(7)</title>\n",
       "<polygon fill=\"none\" stroke=\"#000000\" points=\"663.7964,-123 494.7964,-123 494.7964,-87 663.7964,-87 663.7964,-123\"/>\n",
       "<text text-anchor=\"middle\" x=\"579.2964\" y=\"-101.3\" font-family=\"Times,serif\" font-size=\"14.00\" fill=\"#000000\">additional_leptons&gt;4</text>\n",
       "</g>\n",
       "<!-- Node(6)&#45;&gt;Node(7) -->\n",
       "<g id=\"edge10\" class=\"edge\">\n",
       "<title>Node(6)&#45;&gt;Node(7)</title>\n",
       "<path fill=\"none\" stroke=\"#000000\" d=\"M568.1972,-173.9735C570.0932,-162.1918 572.6085,-146.5607 574.7652,-133.1581\"/>\n",
       "<polygon fill=\"#000000\" stroke=\"#000000\" points=\"578.266,-133.4324 576.3993,-123.0034 571.3549,-132.3203 578.266,-133.4324\"/>\n",
       "<text text-anchor=\"middle\" x=\"577.7964\" y=\"-144.8\" font-family=\"Times,serif\" font-size=\"14.00\" fill=\"#000000\">y</text>\n",
       "</g>\n",
       "<!-- Cat(5) -->\n",
       "<g id=\"node14\" class=\"node\">\n",
       "<title>Cat(5)</title>\n",
       "<ellipse fill=\"none\" stroke=\"#000000\" cx=\"529.2964\" cy=\"-18\" rx=\"40.0939\" ry=\"18\"/>\n",
       "<text text-anchor=\"middle\" x=\"529.2964\" y=\"-14.3\" font-family=\"Times,serif\" font-size=\"14.00\" fill=\"#000000\">Cat(5)</text>\n",
       "</g>\n",
       "<!-- Node(7)&#45;&gt;Cat(5) -->\n",
       "<g id=\"edge7\" class=\"edge\">\n",
       "<title>Node(7)&#45;&gt;Cat(5)</title>\n",
       "<path fill=\"none\" stroke=\"#000000\" d=\"M568.9364,-86.9735C561.9177,-74.7609 552.5219,-58.4123 544.6395,-44.697\"/>\n",
       "<polygon fill=\"#000000\" stroke=\"#000000\" points=\"547.4896,-42.6318 539.4721,-35.7057 541.4204,-46.1199 547.4896,-42.6318\"/>\n",
       "<text text-anchor=\"middle\" x=\"562.2964\" y=\"-57.8\" font-family=\"Times,serif\" font-size=\"14.00\" fill=\"#000000\">n</text>\n",
       "</g>\n",
       "<!-- Cat(6) -->\n",
       "<g id=\"node15\" class=\"node\">\n",
       "<title>Cat(6)</title>\n",
       "<ellipse fill=\"none\" stroke=\"#000000\" cx=\"628.2964\" cy=\"-18\" rx=\"40.0939\" ry=\"18\"/>\n",
       "<text text-anchor=\"middle\" x=\"628.2964\" y=\"-14.3\" font-family=\"Times,serif\" font-size=\"14.00\" fill=\"#000000\">Cat(6)</text>\n",
       "</g>\n",
       "<!-- Node(7)&#45;&gt;Cat(6) -->\n",
       "<g id=\"edge8\" class=\"edge\">\n",
       "<title>Node(7)&#45;&gt;Cat(6)</title>\n",
       "<path fill=\"none\" stroke=\"#000000\" d=\"M589.4493,-86.9735C596.3276,-74.7609 605.5355,-58.4123 613.2602,-44.697\"/>\n",
       "<polygon fill=\"#000000\" stroke=\"#000000\" points=\"616.4664,-46.1364 618.3243,-35.7057 610.3673,-42.7012 616.4664,-46.1364\"/>\n",
       "<text text-anchor=\"middle\" x=\"611.7964\" y=\"-57.8\" font-family=\"Times,serif\" font-size=\"14.00\" fill=\"#000000\">y</text>\n",
       "</g>\n",
       "<!-- Cat(7) -->\n",
       "<g id=\"node17\" class=\"node\">\n",
       "<title>Cat(7)</title>\n",
       "<ellipse fill=\"none\" stroke=\"#000000\" cx=\"722.2964\" cy=\"-105\" rx=\"40.0939\" ry=\"18\"/>\n",
       "<text text-anchor=\"middle\" x=\"722.2964\" y=\"-101.3\" font-family=\"Times,serif\" font-size=\"14.00\" fill=\"#000000\">Cat(7)</text>\n",
       "</g>\n",
       "<!-- Node(8)&#45;&gt;Cat(7) -->\n",
       "<g id=\"edge11\" class=\"edge\">\n",
       "<title>Node(8)&#45;&gt;Cat(7)</title>\n",
       "<path fill=\"none\" stroke=\"#000000\" d=\"M722.2964,-173.9735C722.2964,-162.1918 722.2964,-146.5607 722.2964,-133.1581\"/>\n",
       "<polygon fill=\"#000000\" stroke=\"#000000\" points=\"725.7965,-133.0033 722.2964,-123.0034 718.7965,-133.0034 725.7965,-133.0033\"/>\n",
       "<text text-anchor=\"middle\" x=\"727.2964\" y=\"-144.8\" font-family=\"Times,serif\" font-size=\"14.00\" fill=\"#000000\">n</text>\n",
       "</g>\n",
       "<!-- Cat(8) -->\n",
       "<g id=\"node18\" class=\"node\">\n",
       "<title>Cat(8)</title>\n",
       "<ellipse fill=\"none\" stroke=\"#000000\" cx=\"821.2964\" cy=\"-105\" rx=\"40.0939\" ry=\"18\"/>\n",
       "<text text-anchor=\"middle\" x=\"821.2964\" y=\"-101.3\" font-family=\"Times,serif\" font-size=\"14.00\" fill=\"#000000\">Cat(8)</text>\n",
       "</g>\n",
       "<!-- Node(8)&#45;&gt;Cat(8) -->\n",
       "<g id=\"edge12\" class=\"edge\">\n",
       "<title>Node(8)&#45;&gt;Cat(8)</title>\n",
       "<path fill=\"none\" stroke=\"#000000\" d=\"M742.8093,-173.9735C757.9949,-160.6287 778.8001,-142.3452 795.1747,-127.9555\"/>\n",
       "<polygon fill=\"#000000\" stroke=\"#000000\" points=\"797.6119,-130.4731 802.8132,-121.2429 792.9911,-125.215 797.6119,-130.4731\"/>\n",
       "<text text-anchor=\"middle\" x=\"782.7964\" y=\"-144.8\" font-family=\"Times,serif\" font-size=\"14.00\" fill=\"#000000\">y</text>\n",
       "</g>\n",
       "<!-- Cat(9) -->\n",
       "<g id=\"node20\" class=\"node\">\n",
       "<title>Cat(9)</title>\n",
       "<ellipse fill=\"none\" stroke=\"#000000\" cx=\"724.2964\" cy=\"-279\" rx=\"40.0939\" ry=\"18\"/>\n",
       "<text text-anchor=\"middle\" x=\"724.2964\" y=\"-275.3\" font-family=\"Times,serif\" font-size=\"14.00\" fill=\"#000000\">Cat(9)</text>\n",
       "</g>\n",
       "<!-- Node(9)&#45;&gt;Cat(9) -->\n",
       "<g id=\"edge21\" class=\"edge\">\n",
       "<title>Node(9)&#45;&gt;Cat(9)</title>\n",
       "<path fill=\"none\" stroke=\"#000000\" d=\"M726.6748,-347.9735C726.2686,-336.1918 725.7296,-320.5607 725.2674,-307.1581\"/>\n",
       "<polygon fill=\"#000000\" stroke=\"#000000\" points=\"728.7599,-306.8768 724.9172,-297.0034 721.764,-307.1181 728.7599,-306.8768\"/>\n",
       "<text text-anchor=\"middle\" x=\"731.2964\" y=\"-318.8\" font-family=\"Times,serif\" font-size=\"14.00\" fill=\"#000000\">n</text>\n",
       "</g>\n",
       "<!-- Node(10) -->\n",
       "<g id=\"node21\" class=\"node\">\n",
       "<title>Node(10)</title>\n",
       "<polygon fill=\"none\" stroke=\"#000000\" points=\"978.2964,-297 782.2964,-297 782.2964,-261 978.2964,-261 978.2964,-297\"/>\n",
       "<text text-anchor=\"middle\" x=\"880.2964\" y=\"-275.3\" font-family=\"Times,serif\" font-size=\"14.00\" fill=\"#000000\">leading_mu_abs_eta&gt;1.5</text>\n",
       "</g>\n",
       "<!-- Node(9)&#45;&gt;Node(10) -->\n",
       "<g id=\"edge22\" class=\"edge\">\n",
       "<title>Node(9)&#45;&gt;Node(10)</title>\n",
       "<path fill=\"none\" stroke=\"#000000\" d=\"M758.9981,-347.9735C782.3847,-334.6753 814.3956,-316.473 839.6608,-302.1065\"/>\n",
       "<polygon fill=\"#000000\" stroke=\"#000000\" points=\"841.6725,-304.989 848.6353,-297.0034 838.2123,-298.9039 841.6725,-304.989\"/>\n",
       "<text text-anchor=\"middle\" x=\"817.7964\" y=\"-318.8\" font-family=\"Times,serif\" font-size=\"14.00\" fill=\"#000000\">y</text>\n",
       "</g>\n",
       "<!-- Cat(10) -->\n",
       "<g id=\"node22\" class=\"node\">\n",
       "<title>Cat(10)</title>\n",
       "<ellipse fill=\"none\" stroke=\"#000000\" cx=\"866.2964\" cy=\"-192\" rx=\"46.2923\" ry=\"18\"/>\n",
       "<text text-anchor=\"middle\" x=\"866.2964\" y=\"-188.3\" font-family=\"Times,serif\" font-size=\"14.00\" fill=\"#000000\">Cat(10)</text>\n",
       "</g>\n",
       "<!-- Node(10)&#45;&gt;Cat(10) -->\n",
       "<g id=\"edge19\" class=\"edge\">\n",
       "<title>Node(10)&#45;&gt;Cat(10)</title>\n",
       "<path fill=\"none\" stroke=\"#000000\" d=\"M877.3956,-260.9735C875.4997,-249.1918 872.9843,-233.5607 870.8276,-220.1581\"/>\n",
       "<polygon fill=\"#000000\" stroke=\"#000000\" points=\"874.2379,-219.3203 869.1935,-210.0034 867.3268,-220.4324 874.2379,-219.3203\"/>\n",
       "<text text-anchor=\"middle\" x=\"879.2964\" y=\"-231.8\" font-family=\"Times,serif\" font-size=\"14.00\" fill=\"#000000\">n</text>\n",
       "</g>\n",
       "<!-- Node(11) -->\n",
       "<g id=\"node23\" class=\"node\">\n",
       "<title>Node(11)</title>\n",
       "<polygon fill=\"none\" stroke=\"#000000\" points=\"1033.7964,-210 930.7964,-210 930.7964,-174 1033.7964,-174 1033.7964,-210\"/>\n",
       "<text text-anchor=\"middle\" x=\"982.2964\" y=\"-188.3\" font-family=\"Times,serif\" font-size=\"14.00\" fill=\"#000000\">num_jets&gt;1</text>\n",
       "</g>\n",
       "<!-- Node(10)&#45;&gt;Node(11) -->\n",
       "<g id=\"edge20\" class=\"edge\">\n",
       "<title>Node(10)&#45;&gt;Node(11)</title>\n",
       "<path fill=\"none\" stroke=\"#000000\" d=\"M901.4309,-260.9735C916.4749,-248.1419 936.872,-230.7443 953.4168,-216.6326\"/>\n",
       "<polygon fill=\"#000000\" stroke=\"#000000\" points=\"955.852,-219.1558 961.189,-210.0034 951.3093,-213.8299 955.852,-219.1558\"/>\n",
       "<text text-anchor=\"middle\" x=\"942.7964\" y=\"-231.8\" font-family=\"Times,serif\" font-size=\"14.00\" fill=\"#000000\">y</text>\n",
       "</g>\n",
       "<!-- Cat(11) -->\n",
       "<g id=\"node24\" class=\"node\">\n",
       "<title>Cat(11)</title>\n",
       "<ellipse fill=\"none\" stroke=\"#000000\" cx=\"953.2964\" cy=\"-105\" rx=\"46.2923\" ry=\"18\"/>\n",
       "<text text-anchor=\"middle\" x=\"953.2964\" y=\"-101.3\" font-family=\"Times,serif\" font-size=\"14.00\" fill=\"#000000\">Cat(11)</text>\n",
       "</g>\n",
       "<!-- Node(11)&#45;&gt;Cat(11) -->\n",
       "<g id=\"edge17\" class=\"edge\">\n",
       "<title>Node(11)&#45;&gt;Cat(11)</title>\n",
       "<path fill=\"none\" stroke=\"#000000\" d=\"M976.2876,-173.9735C972.3215,-162.0751 967.0467,-146.2508 962.55,-132.7606\"/>\n",
       "<polygon fill=\"#000000\" stroke=\"#000000\" points=\"965.7803,-131.3834 959.2975,-123.0034 959.1395,-133.597 965.7803,-131.3834\"/>\n",
       "<text text-anchor=\"middle\" x=\"975.2964\" y=\"-144.8\" font-family=\"Times,serif\" font-size=\"14.00\" fill=\"#000000\">n</text>\n",
       "</g>\n",
       "<!-- Cat(12) -->\n",
       "<g id=\"node25\" class=\"node\">\n",
       "<title>Cat(12)</title>\n",
       "<ellipse fill=\"none\" stroke=\"#000000\" cx=\"1063.2964\" cy=\"-105\" rx=\"46.2923\" ry=\"18\"/>\n",
       "<text text-anchor=\"middle\" x=\"1063.2964\" y=\"-101.3\" font-family=\"Times,serif\" font-size=\"14.00\" fill=\"#000000\">Cat(12)</text>\n",
       "</g>\n",
       "<!-- Node(11)&#45;&gt;Cat(12) -->\n",
       "<g id=\"edge18\" class=\"edge\">\n",
       "<title>Node(11)&#45;&gt;Cat(12)</title>\n",
       "<path fill=\"none\" stroke=\"#000000\" d=\"M999.0797,-173.9735C1011.0437,-161.1233 1027.2712,-143.6937 1040.4199,-129.571\"/>\n",
       "<polygon fill=\"#000000\" stroke=\"#000000\" points=\"1043.1088,-131.8193 1047.3614,-122.1154 1037.9856,-127.0494 1043.1088,-131.8193\"/>\n",
       "<text text-anchor=\"middle\" x=\"1032.7964\" y=\"-144.8\" font-family=\"Times,serif\" font-size=\"14.00\" fill=\"#000000\">y</text>\n",
       "</g>\n",
       "</g>\n",
       "</svg>\n"
      ],
      "text/plain": [
       "<graphviz.dot.Digraph at 0x7f54f867bdd8>"
      ]
     },
     "execution_count": 72,
     "metadata": {},
     "output_type": "execute_result"
    }
   ],
   "source": [
    "dg"
   ]
  },
  {
   "cell_type": "code",
   "execution_count": 132,
   "metadata": {},
   "outputs": [],
   "source": [
    "ll = [\n",
    "    0.8147304715050296,\n",
    "0.814732947752736,\n",
    "0.8146532899638426,\n",
    "0.8149386266474693,\n",
    "0.8146533254034578,\n",
    "0.8147304909378165,\n",
    "0.8147304809356468,\n",
    "0.8157559358934028,\n",
    "0.8154514838063862,\n",
    "0.8154514675315407,\n",
    "0.8213448525370646,\n",
    "0.821344876915905,\n",
    "0.8214488146264329,\n",
    "0.8217118419034777,\n",
    "0.8217117747499306,\n",
    "0.8317175092317025,\n",
    "0.831531543899603,\n",
    "0.8315315144993738,\n",
    "0.8315315167393913,\n",
    "0.8314331156284317,\n",
    "0.8218334593060803,\n",
    "0.821253824555333,\n",
    "0.8219174632803476,\n",
    "0.8220184822922744,\n",
    "0.8219174309867232,\n",
    "0.8276092727296359,\n",
    "0.8280178216637966,\n",
    "0.8379917100472358,\n",
    "0.8379916767060017,\n",
    "0.8393955282179687,\n",
    "0.809982273502873,\n",
    "0.8100506883894251,\n",
    "0.8100506498741723,\n",
    "0.8100506671198081,\n",
    "0.8100618973998616,\n",
    "0.8100643999904529,\n",
    "0.8103270419303087,\n",
    "0.8415334141557811,\n",
    "0.8415334116657126,\n",
    "0.8415334382264422,\n",
    "0.8327802686063532,\n",
    "0.8341845232020224,\n",
    "0.8341845525087482,\n",
    "0.8341845276678093,\n",
    "0.8341845745585699,\n",
    "0.834184603027959,\n",
    "0.8341845181780121,\n",
    "0.8341845592074283,\n",
    "0.8341845659061083,\n",
    "0.8341845363202712,\n",
    "0.808087681231699,\n",
    "0.8146990386513773,\n",
    "0.8273872984275633,\n",
    "0.8273872055640195,\n",
    "0.8395716367733388,\n",
    "0.8396528065770322,\n",
    "0.839759046973921,\n",
    "0.8397591886531912,\n",
    "0.839759094939704,\n",
    "0.8403734546605783,\n",
    "0.8190104525178963,\n",
    "0.8193776150766451,\n",
    "0.8193776497436135,\n",
    "0.8193675149918348,\n",
    "0.8193776764542275,\n",
    "0.8193776110984683,\n",
    "0.8193776625306097,\n",
    "0.8258154045934603,\n",
    "0.8258154294042064,\n",
    "0.8258154220737588,\n",
    "0.8330838145280283,\n",
    "0.8586329746224491,\n",
    "0.8587320024674175,\n",
    "0.8587358018467146,\n",
    "0.8593834681527194,\n",
    "0.8598374921233741,\n",
    "0.859837515681623,\n",
    "0.8618110064912815,\n",
    "0.8621649836865388,\n",
    "0.8618147906755644,\n",
    "0.8379073263606799,\n",
    "0.8378449062954656,\n",
    "0.837844838489743,\n",
    "0.8382414775711879,\n",
    "0.841882746668973,\n",
    "0.8418827192895852,\n",
    "0.8418828332320817,\n",
    "0.841817971184266,\n",
    "0.8418827914716054,\n",
    "0.8424929826836679,\n",
    "0.8323202073554329,\n",
    "0.83232106195111,\n",
    "0.8323913427984817,\n",
    "0.8335480232464868,\n",
    "0.8357708402194168,\n",
    "0.8354564465221821,\n",
    "0.8358217018798,\n",
    "0.835384690519973,\n",
    "0.8356069104422701,\n",
    "0.8356069408136557,\n",
    "0.8197603283172704,\n",
    "0.8195047565515308,\n",
    "0.8239910556423468,\n",
    "0.8239911073516537,\n",
    "0.8239910658146697,\n",
    "0.8303251591704642,\n",
    "0.8307172869774113,\n",
    "0.8307996035092509,\n",
    "0.8307995435359922,\n",
    "0.8307995471792277,\n",
    "0.8318318401723009,\n",
    "0.8318318480095316,\n",
    "0.8318318088233776,\n",
    "0.8318318188998174,\n",
    "0.8318318494090371,\n",
    "0.8318326672796281,\n",
    "0.8318326420885541,\n",
    "0.8318639083825226,\n",
    "0.8322188402089336,\n",
    "0.8356756887704624,\n",
    "0.8094895067139742,\n",
    "0.809489616874921,\n",
    "0.8256013954525788,\n",
    "0.8258975832828777,\n",
    "0.8258976061177694,\n",
    "0.8258976007614368,\n",
    "0.8371544554463246,\n",
    "0.8370348769155279,\n",
    "0.8536934176401261,\n",
    "]\n",
    "ll = list(chunks(ll, 10))"
   ]
  },
  {
   "cell_type": "code",
   "execution_count": 133,
   "metadata": {},
   "outputs": [
    {
     "data": {
      "text/plain": [
       "13"
      ]
     },
     "execution_count": 133,
     "metadata": {},
     "output_type": "execute_result"
    }
   ],
   "source": [
    "len(ll)"
   ]
  },
  {
   "cell_type": "code",
   "execution_count": 134,
   "metadata": {},
   "outputs": [
    {
     "data": {
      "text/plain": [
       "[10, 10, 10, 10, 10, 10, 10, 10, 10, 10, 10, 10, 9]"
      ]
     },
     "execution_count": 134,
     "metadata": {},
     "output_type": "execute_result"
    }
   ],
   "source": [
    "[len(l) for l in ll]"
   ]
  },
  {
   "cell_type": "code",
   "execution_count": 139,
   "metadata": {},
   "outputs": [
    {
     "data": {
      "text/plain": [
       "Text(0, 0.5, 'Best achieved significance per iteration')"
      ]
     },
     "execution_count": 139,
     "metadata": {},
     "output_type": "execute_result"
    },
    {
     "data": {
      "image/png": "[encoded data removed]",
      "text/plain": [
       "<Figure size 432x288 with 1 Axes>"
      ]
     },
     "metadata": {
      "needs_background": "light"
     },
     "output_type": "display_data"
    }
   ],
   "source": [
    "for i in range(len(ll)):\n",
    "    plt.plot(ll[i], marker=\".\", lw=1)\n",
    "plt.xlabel(\"Number of tree growing iterations\")\n",
    "plt.ylabel(\"Best achieved significance per iteration\")"
   ]
  },
  {
   "cell_type": "code",
   "execution_count": null,
   "metadata": {},
   "outputs": [],
   "source": []
  }
 ],
 "metadata": {
  "kernelspec": {
   "display_name": "Python 3",
   "language": "python",
   "name": "python3"
  },
  "language_info": {
   "codemirror_mode": {
    "name": "ipython",
    "version": 3
   },
   "file_extension": ".py",
   "mimetype": "text/x-python",
   "name": "python",
   "nbconvert_exporter": "python",
   "pygments_lexer": "ipython3",
   "version": "3.6.7"
  }
 },
 "nbformat": 4,
 "nbformat_minor": 2
}
